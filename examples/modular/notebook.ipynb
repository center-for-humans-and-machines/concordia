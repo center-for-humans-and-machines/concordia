{
  "cells": [
    {
      "cell_type": "markdown",
      "metadata": {
        "id": "zWgEkOAO9OVz"
      },
      "source": [
        "# Modular launch notebook.\n",
        "\n",
        "This notebook can be used as an alternative to launch.py.\n",
        "\n"
      ]
    },
    {
      "cell_type": "markdown",
      "metadata": {
        "id": "esFO3miE3s41"
      },
      "source": [
        "\u003ca href=\"https://colab.research.google.com/github/google-deepmind/concordia/blob/main/examples/modular/notebook.ipynb\" target=\"_parent\"\u003e\u003cimg src=\"https://colab.research.google.com/assets/colab-badge.svg\" alt=\"Open In Colab\"/\u003e\u003c/a\u003e"
      ]
    },
    {
      "cell_type": "markdown",
      "metadata": {
        "id": "J2TwJrZ08wXz"
      },
      "source": [
        "## Setup and imports"
      ]
    },
    {
      "cell_type": "code",
      "execution_count": null,
      "metadata": {
        "id": "tkCJgbFFvaAB"
      },
      "outputs": [],
      "source": [
        "!pip install -r https://raw.githubusercontent.com/google-deepmind/concordia/main/examples/requirements.txt\n",
        "!pip install --ignore-requires-python git+https://github.com/google-deepmind/concordia.git\n",
        "\n",
        "#@markdown Here we check if this is being ran in colab or codespaces. If running a colab, we clone the repository to get the example environments\n",
        "import os\n",
        "import sys\n",
        "import pathlib\n",
        "\n",
        "if os.environ.get('CODESPACES') == 'true':\n",
        "  print(\"Running in Codespaces\")\n",
        "  concordia_root_dir = pathlib.Path.cwd().parent.parent.resolve()\n",
        "  sys.path.append(f'{concordia_root_dir}')\n",
        "elif 'google.colab' in sys.modules:\n",
        "  print(\"Running in Colab\")\n",
        "  !git clone https://github.com/google-deepmind/concordia.git\n",
        "  sys.path.append('/content/concordia/')\n",
        "else:\n",
        "  print(\"Running in a different environment, please make sure to add root directory of examples to with sys.path.append\")"
      ]
    },
    {
      "cell_type": "code",
      "execution_count": null,
      "metadata": {
        "id": "-qLG5ExLqpWa"
      },
      "outputs": [],
      "source": [
        "import datetime\n",
        "import importlib\n",
        "import os\n",
        "import pathlib\n",
        "import sys\n",
        "\n",
        "from concordia.language_model import amazon_bedrock_model\n",
        "from concordia.language_model import google_aistudio_model\n",
        "from concordia.language_model import gpt_model\n",
        "from concordia.language_model import langchain_ollama_model\n",
        "from concordia.language_model import mistral_model\n",
        "from concordia.language_model import no_language_model\n",
        "from concordia.language_model import ollama_model\n",
        "from concordia.language_model import pytorch_gemma_model\n",
        "from concordia.utils import measurements as measurements_lib\n",
        "import sentence_transformers"
      ]
    },
    {
      "cell_type": "markdown",
      "metadata": {
        "id": "L6YO41FyuwOO"
      },
      "source": [
        "## Parameters"
      ]
    },
    {
      "cell_type": "code",
      "execution_count": null,
      "metadata": {
        "id": "V4peKcaQuwOP"
      },
      "outputs": [],
      "source": [
        "# @title Parameters (edit this cell)\n",
        "\n",
        "# Pick AGENT_NAME from the factories implemented in concordia/factory/agent.\n",
        "AGENT_NAME = 'rational_entity_agent__main_role'\n",
        "# Pick ENVIRONMENT_NAME from the factories in concordia/factory/environment.\n",
        "ENVIRONMENT_NAME = 'forbidden_fruit'\n",
        "# Pick from {openai, mistral}. Feel free to implement more!\n",
        "API_TYPE = 'mistral'\n",
        "# Pick  a specific model e.g. gpt-4o if openai or codestral-latest if mistral.\n",
        "# You can select any model listed at https://platform.openai.com/docs/models\n",
        "# if API_TYPE is openai or https://docs.mistral.ai/getting-started/models/ when\n",
        "# API_TYPE is mistral. Feel free to implement more!\n",
        "MODEL_NAME = 'codestral-latest'\n",
        "# Select an embedder by specifying one of the sentence transformer embedding\n",
        "# models listed at https://huggingface.co/sentence-transformers.\n",
        "EMBEDDER_NAME = 'all-mpnet-base-v2'\n",
        "# To debug without spending money on API calls, set DISABLE_LANGUAGE_MODEL=True.\n",
        "DISABLE_LANGUAGE_MODEL = False"
      ]
    },
    {
      "cell_type": "markdown",
      "metadata": {
        "id": "o8G9o40NuwOP"
      },
      "source": [
        "## Load the agent config with importlib"
      ]
    },
    {
      "cell_type": "code",
      "execution_count": null,
      "metadata": {
        "id": "TvZYDlOmuwOP"
      },
      "outputs": [],
      "source": [
        "# @title Load the agent config with importlib\n",
        "\n",
        "IMPORT_AGENT_BASE_DIR = 'concordia.factory.agent'\n",
        "agent_module = importlib.import_module(\n",
        "    f'{IMPORT_AGENT_BASE_DIR}.{AGENT_NAME}')\n",
        "# Load the environment config with importlib\n",
        "IMPORT_ENV_BASE_DIR = 'examples.modular.environment'\n",
        "simulation = importlib.import_module(\n",
        "    f'{IMPORT_ENV_BASE_DIR}.{ENVIRONMENT_NAME}')"
      ]
    },
    {
      "cell_type": "markdown",
      "metadata": {
        "id": "brdgSD2NuwOQ"
      },
      "source": [
        "## Language Model setup"
      ]
    },
    {
      "cell_type": "code",
      "execution_count": null,
      "metadata": {
        "id": "Ez6153pSuwOQ"
      },
      "outputs": [],
      "source": [
        "# @title Language Model setup\n",
        "\n",
        "if DISABLE_LANGUAGE_MODEL:\n",
        "  model = no_language_model.NoLanguageModel()\n",
        "elif API_TYPE == 'amazon_bedrock':\n",
        "  model = amazon_bedrock_model.AmazonBedrockLanguageModel(MODEL_NAME)\n",
        "elif API_TYPE == 'google_aistudio_model':\n",
        "  model = google_aistudio_model.GoogleAIStudioLanguageModel(MODEL_NAME)\n",
        "elif API_TYPE == 'langchain_ollama':\n",
        "  model = langchain_ollama_model.LangchainOllamaLanguageModel(MODEL_NAME)\n",
        "elif API_TYPE == 'mistral':\n",
        "  model = mistral_model.MistralLanguageModel(MODEL_NAME)\n",
        "elif API_TYPE == 'ollama':\n",
        "  model = ollama_model.OllamaLanguageModel(MODEL_NAME)\n",
        "elif API_TYPE == 'openai':\n",
        "  model = gpt_model.GptLanguageModel(MODEL_NAME)\n",
        "elif API_TYPE == 'pytorch_gemma':\n",
        "  model = pytorch_gemma_model.PyTorchGemmaLanguageModel(MODEL_NAME)\n",
        "else:\n",
        "  raise ValueError(f'Unrecognized api type: {API_TYPE}')"
      ]
    },
    {
      "cell_type": "markdown",
      "metadata": {
        "id": "sb_VFDtvuwOQ"
      },
      "source": [
        "## Setup sentence encoder"
      ]
    },
    {
      "cell_type": "code",
      "execution_count": null,
      "metadata": {
        "id": "UE-enMPMuwOQ"
      },
      "outputs": [],
      "source": [
        "# @title Setup sentence encoder\n",
        "_embedder_model = sentence_transformers.SentenceTransformer(\n",
        "    f'sentence-transformers/{EMBEDDER_NAME}')\n",
        "embedder = lambda x: _embedder_model.encode(x, show_progress_bar=False)"
      ]
    },
    {
      "cell_type": "markdown",
      "metadata": {
        "id": "FTZjLHpYuwOQ"
      },
      "source": [
        "# The simulation"
      ]
    },
    {
      "cell_type": "markdown",
      "metadata": {
        "id": "bNl5UpuHuwOQ"
      },
      "source": [
        "## Initialize the simulation"
      ]
    },
    {
      "cell_type": "code",
      "execution_count": null,
      "metadata": {
        "id": "pCfIjcukuwOQ"
      },
      "outputs": [],
      "source": [
        "# @title Initialize the simulation\n",
        "measurements = measurements_lib.Measurements()\n",
        "runnable_simulation = simulation.Simulation(\n",
        "    model=model,\n",
        "    embedder=embedder,\n",
        "    measurements=measurements,\n",
        "    agent_module=agent_module,\n",
        ")"
      ]
    },
    {
      "cell_type": "markdown",
      "metadata": {
        "id": "8f0j8s-_uwOR"
      },
      "source": [
        "## Run the simulation"
      ]
    },
    {
      "cell_type": "code",
      "execution_count": null,
      "metadata": {
        "id": "M4Z1ttTfuwOR"
      },
      "outputs": [],
      "source": [
        "# @title Run the simulation\n",
        "results_log = runnable_simulation()"
      ]
    },
    {
      "cell_type": "markdown",
      "metadata": {
        "id": "oaiIye0KuwOR"
      },
      "source": [
        "## Save the results log"
      ]
    },
    {
      "cell_type": "code",
      "execution_count": null,
      "metadata": {
        "id": "sDGkKpsruwOR"
      },
      "outputs": [],
      "source": [
        "# @title Write the results log as an HTML file in the current working directory.\n",
        "filename = datetime.datetime.now().strftime('%Y-%m-%d %H:%M:%S') + '.html'\n",
        "file_handle = open(filename, 'a')\n",
        "file_handle.write(results_log)\n",
        "file_handle.close()"
      ]
    },
    {
      "cell_type": "markdown",
      "metadata": {
        "id": "qWDqd4ByzSsT"
      },
      "source": [
        "```\n",
        "Copyright 2023 DeepMind Technologies Limited.\n",
        "\n",
        "Licensed under the Apache License, Version 2.0 (the \"License\");\n",
        "you may not use this file except in compliance with the License.\n",
        "You may obtain a copy of the License at\n",
        "\n",
        "    https://www.apache.org/licenses/LICENSE-2.0\n",
        "\n",
        "Unless required by applicable law or agreed to in writing, software\n",
        "distributed under the License is distributed on an \"AS IS\" BASIS,\n",
        "WITHOUT WARRANTIES OR CONDITIONS OF ANY KIND, either express or implied.\n",
        "See the License for the specific language governing permissions and\n",
        "limitations under the License.\n",
        "```"
      ]
    }
  ],
  "metadata": {
    "colab": {
      "last_runtime": {
        "build_target": "",
        "kind": "private"
      },
      "private_outputs": true,
      "provenance": [],
      "toc_visible": true
    },
    "kernelspec": {
      "display_name": "Python 3",
      "name": "python3"
    },
    "language_info": {
      "codemirror_mode": {
        "name": "ipython",
        "version": 3
      },
      "file_extension": ".py",
      "mimetype": "text/x-python",
      "name": "python",
      "nbconvert_exporter": "python",
      "pygments_lexer": "ipython3",
      "version": "3.11.9"
    }
  },
  "nbformat": 4,
  "nbformat_minor": 0
}
